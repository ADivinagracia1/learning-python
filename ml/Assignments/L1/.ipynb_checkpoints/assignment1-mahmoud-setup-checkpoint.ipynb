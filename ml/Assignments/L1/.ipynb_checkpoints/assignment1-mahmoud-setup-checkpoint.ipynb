{
 "cells": [
  {
   "cell_type": "markdown",
   "metadata": {},
   "source": [
    "# MSE 491 Assignment 1 Regression\n",
    "\n",
    "### Mahmoud Kamaleldin 301324899"
   ]
  },
  {
   "cell_type": "code",
   "execution_count": 46,
   "metadata": {},
   "outputs": [
    {
     "name": "stdout",
     "output_type": "stream",
     "text": [
      "The autoreload extension is already loaded. To reload it, use:\n",
      "  %reload_ext autoreload\n"
     ]
    }
   ],
   "source": [
    "%load_ext autoreload\n",
    "%autoreload 2\n",
    "\n",
    "%matplotlib inline"
   ]
  },
  {
   "cell_type": "code",
   "execution_count": 47,
   "metadata": {},
   "outputs": [],
   "source": [
    "# Load General Libraries\n",
    "import numpy as np\n",
    "import pandas as pd\n",
    "import scipy\n",
    "import pickle\n",
    "import matplotlib.pyplot as plt\n",
    "import seaborn as sns\n",
    "import glob\n",
    "\n",
    "sns.set(rc={'figure.figsize':(10, 5)})"
   ]
  },
  {
   "cell_type": "markdown",
   "metadata": {},
   "source": [
    "## Preprocessing Data"
   ]
  },
  {
   "cell_type": "code",
   "execution_count": 63,
   "metadata": {},
   "outputs": [],
   "source": [
    "def display_all(df):\n",
    "    with pd.option_context(\"display.max_rows\", 1000, \"display.max_columns\", 1000): \n",
    "        display(df)\n",
    "        \n",
    "def split_feats_targets(df, targets):\n",
    "    Y = df[targets].values\n",
    "    X = df.drop(columns=targets).values\n",
    "    \n",
    "    return X, Y\n",
    "\n",
    "def split_train_validation_dataset(df, split):\n",
    "    mask = np.random.rand(len(df)) < split\n",
    "    df_train = df[mask]\n",
    "    df_test = df[~mask]\n",
    "    \n",
    "    return df_train, df_test"
   ]
  },
  {
   "cell_type": "code",
   "execution_count": 1,
   "metadata": {},
   "outputs": [
    {
     "ename": "NameError",
     "evalue": "name 'glob' is not defined",
     "output_type": "error",
     "traceback": [
      "\u001b[1;31m---------------------------------------------------------------------------\u001b[0m",
      "\u001b[1;31mNameError\u001b[0m                                 Traceback (most recent call last)",
      "\u001b[1;32m<ipython-input-1-dbbaa639fcb6>\u001b[0m in \u001b[0;36m<module>\u001b[1;34m\u001b[0m\n\u001b[0;32m      1\u001b[0m \u001b[0mextension\u001b[0m \u001b[1;33m=\u001b[0m \u001b[1;34m'csv'\u001b[0m\u001b[1;33m\u001b[0m\u001b[1;33m\u001b[0m\u001b[0m\n\u001b[1;32m----> 2\u001b[1;33m \u001b[0mall_filenames\u001b[0m \u001b[1;33m=\u001b[0m \u001b[1;33m[\u001b[0m\u001b[0mi\u001b[0m \u001b[1;32mfor\u001b[0m \u001b[0mi\u001b[0m \u001b[1;32min\u001b[0m \u001b[0mglob\u001b[0m\u001b[1;33m.\u001b[0m\u001b[0mglob\u001b[0m\u001b[1;33m(\u001b[0m\u001b[1;34m'Gas Turbine Dataset/*.{}'\u001b[0m\u001b[1;33m.\u001b[0m\u001b[0mformat\u001b[0m\u001b[1;33m(\u001b[0m\u001b[0mextension\u001b[0m\u001b[1;33m)\u001b[0m\u001b[1;33m)\u001b[0m\u001b[1;33m]\u001b[0m\u001b[1;33m\u001b[0m\u001b[1;33m\u001b[0m\u001b[0m\n\u001b[0m\u001b[0;32m      3\u001b[0m \u001b[1;33m\u001b[0m\u001b[0m\n\u001b[0;32m      4\u001b[0m \u001b[1;33m\u001b[0m\u001b[0m\n\u001b[0;32m      5\u001b[0m \u001b[0mdf_raw\u001b[0m \u001b[1;33m=\u001b[0m \u001b[0mpd\u001b[0m\u001b[1;33m.\u001b[0m\u001b[0mconcat\u001b[0m\u001b[1;33m(\u001b[0m\u001b[1;33m[\u001b[0m\u001b[0mpd\u001b[0m\u001b[1;33m.\u001b[0m\u001b[0mread_csv\u001b[0m\u001b[1;33m(\u001b[0m\u001b[0mf\u001b[0m\u001b[1;33m)\u001b[0m \u001b[1;32mfor\u001b[0m \u001b[0mf\u001b[0m \u001b[1;32min\u001b[0m \u001b[0mall_filenames\u001b[0m\u001b[1;33m]\u001b[0m\u001b[1;33m)\u001b[0m\u001b[1;33m\u001b[0m\u001b[1;33m\u001b[0m\u001b[0m\n",
      "\u001b[1;31mNameError\u001b[0m: name 'glob' is not defined"
     ]
    }
   ],
   "source": [
    "all_filenames = [i for i in glob.glob('Gas Turbine Dataset/*.csv'))]\n",
    "\n",
    "\n",
    "df_raw = pd.concat([pd.read_csv(f) for f in all_filenames])\n",
    "\n",
    "targets = [\"NOX\", \"CO\", \"TEY\"]\n",
    "features = [column for column in df_raw.columns if column not in targets]"
   ]
  },
  {
   "cell_type": "code",
   "execution_count": 53,
   "metadata": {},
   "outputs": [
    {
     "name": "stdout",
     "output_type": "stream",
     "text": [
      "Targets = ['NOX', 'CO', 'TEY']\n",
      "Features = ['AT', 'AP', 'AH', 'AFDP', 'GTEP', 'TIT', 'TAT', 'CDP']\n"
     ]
    }
   ],
   "source": [
    "print(f\"Targets = {targets}\")\n",
    "print(f\"Features = {features}\")"
   ]
  },
  {
   "cell_type": "code",
   "execution_count": 54,
   "metadata": {},
   "outputs": [
    {
     "name": "stdout",
     "output_type": "stream",
     "text": [
      "Is there any NaN values in df? False\n"
     ]
    }
   ],
   "source": [
    "print(f\"Is there any NaN values in df? {df_raw.isnull().values.any()}\")"
   ]
  },
  {
   "cell_type": "code",
   "execution_count": 55,
   "metadata": {},
   "outputs": [
    {
     "data": {
      "text/html": [
       "<div>\n",
       "<style scoped>\n",
       "    .dataframe tbody tr th:only-of-type {\n",
       "        vertical-align: middle;\n",
       "    }\n",
       "\n",
       "    .dataframe tbody tr th {\n",
       "        vertical-align: top;\n",
       "    }\n",
       "\n",
       "    .dataframe thead th {\n",
       "        text-align: right;\n",
       "    }\n",
       "</style>\n",
       "<table border=\"1\" class=\"dataframe\">\n",
       "  <thead>\n",
       "    <tr style=\"text-align: right;\">\n",
       "      <th></th>\n",
       "      <th>7379</th>\n",
       "      <th>7380</th>\n",
       "      <th>7381</th>\n",
       "      <th>7382</th>\n",
       "      <th>7383</th>\n",
       "    </tr>\n",
       "  </thead>\n",
       "  <tbody>\n",
       "    <tr>\n",
       "      <th>AT</th>\n",
       "      <td>3.6268</td>\n",
       "      <td>4.1674</td>\n",
       "      <td>5.4820</td>\n",
       "      <td>5.8837</td>\n",
       "      <td>6.0392</td>\n",
       "    </tr>\n",
       "    <tr>\n",
       "      <th>AP</th>\n",
       "      <td>1028.5000</td>\n",
       "      <td>1028.6000</td>\n",
       "      <td>1028.5000</td>\n",
       "      <td>1028.7000</td>\n",
       "      <td>1028.8000</td>\n",
       "    </tr>\n",
       "    <tr>\n",
       "      <th>AH</th>\n",
       "      <td>93.2000</td>\n",
       "      <td>94.0360</td>\n",
       "      <td>95.2190</td>\n",
       "      <td>94.2000</td>\n",
       "      <td>94.5470</td>\n",
       "    </tr>\n",
       "    <tr>\n",
       "      <th>AFDP</th>\n",
       "      <td>3.1661</td>\n",
       "      <td>3.1923</td>\n",
       "      <td>3.3128</td>\n",
       "      <td>3.9831</td>\n",
       "      <td>3.8752</td>\n",
       "    </tr>\n",
       "    <tr>\n",
       "      <th>GTEP</th>\n",
       "      <td>19.0870</td>\n",
       "      <td>19.0160</td>\n",
       "      <td>18.8570</td>\n",
       "      <td>23.5630</td>\n",
       "      <td>22.5240</td>\n",
       "    </tr>\n",
       "    <tr>\n",
       "      <th>TIT</th>\n",
       "      <td>1037.0000</td>\n",
       "      <td>1037.6000</td>\n",
       "      <td>1038.0000</td>\n",
       "      <td>1076.9000</td>\n",
       "      <td>1067.9000</td>\n",
       "    </tr>\n",
       "    <tr>\n",
       "      <th>TAT</th>\n",
       "      <td>541.5900</td>\n",
       "      <td>542.2800</td>\n",
       "      <td>543.4800</td>\n",
       "      <td>550.1100</td>\n",
       "      <td>548.2300</td>\n",
       "    </tr>\n",
       "    <tr>\n",
       "      <th>TEY</th>\n",
       "      <td>109.0800</td>\n",
       "      <td>108.7900</td>\n",
       "      <td>107.8100</td>\n",
       "      <td>131.4100</td>\n",
       "      <td>125.4100</td>\n",
       "    </tr>\n",
       "    <tr>\n",
       "      <th>CDP</th>\n",
       "      <td>10.4110</td>\n",
       "      <td>10.3440</td>\n",
       "      <td>10.4620</td>\n",
       "      <td>11.7710</td>\n",
       "      <td>11.4620</td>\n",
       "    </tr>\n",
       "    <tr>\n",
       "      <th>CO</th>\n",
       "      <td>10.9930</td>\n",
       "      <td>11.1440</td>\n",
       "      <td>11.4140</td>\n",
       "      <td>3.3134</td>\n",
       "      <td>11.9810</td>\n",
       "    </tr>\n",
       "    <tr>\n",
       "      <th>NOX</th>\n",
       "      <td>89.1720</td>\n",
       "      <td>88.8490</td>\n",
       "      <td>96.1470</td>\n",
       "      <td>64.7380</td>\n",
       "      <td>109.2400</td>\n",
       "    </tr>\n",
       "  </tbody>\n",
       "</table>\n",
       "</div>"
      ],
      "text/plain": [
       "           7379       7380       7381       7382       7383\n",
       "AT       3.6268     4.1674     5.4820     5.8837     6.0392\n",
       "AP    1028.5000  1028.6000  1028.5000  1028.7000  1028.8000\n",
       "AH      93.2000    94.0360    95.2190    94.2000    94.5470\n",
       "AFDP     3.1661     3.1923     3.3128     3.9831     3.8752\n",
       "GTEP    19.0870    19.0160    18.8570    23.5630    22.5240\n",
       "TIT   1037.0000  1037.6000  1038.0000  1076.9000  1067.9000\n",
       "TAT    541.5900   542.2800   543.4800   550.1100   548.2300\n",
       "TEY    109.0800   108.7900   107.8100   131.4100   125.4100\n",
       "CDP     10.4110    10.3440    10.4620    11.7710    11.4620\n",
       "CO      10.9930    11.1440    11.4140     3.3134    11.9810\n",
       "NOX     89.1720    88.8490    96.1470    64.7380   109.2400"
      ]
     },
     "metadata": {},
     "output_type": "display_data"
    },
    {
     "data": {
      "text/html": [
       "<div>\n",
       "<style scoped>\n",
       "    .dataframe tbody tr th:only-of-type {\n",
       "        vertical-align: middle;\n",
       "    }\n",
       "\n",
       "    .dataframe tbody tr th {\n",
       "        vertical-align: top;\n",
       "    }\n",
       "\n",
       "    .dataframe thead th {\n",
       "        text-align: right;\n",
       "    }\n",
       "</style>\n",
       "<table border=\"1\" class=\"dataframe\">\n",
       "  <thead>\n",
       "    <tr style=\"text-align: right;\">\n",
       "      <th></th>\n",
       "      <th>count</th>\n",
       "      <th>mean</th>\n",
       "      <th>std</th>\n",
       "      <th>min</th>\n",
       "      <th>25%</th>\n",
       "      <th>50%</th>\n",
       "      <th>75%</th>\n",
       "      <th>max</th>\n",
       "    </tr>\n",
       "  </thead>\n",
       "  <tbody>\n",
       "    <tr>\n",
       "      <th>AT</th>\n",
       "      <td>36733.0</td>\n",
       "      <td>17.712726</td>\n",
       "      <td>7.447451</td>\n",
       "      <td>-6.234800</td>\n",
       "      <td>11.7810</td>\n",
       "      <td>17.8010</td>\n",
       "      <td>23.6650</td>\n",
       "      <td>37.1030</td>\n",
       "    </tr>\n",
       "    <tr>\n",
       "      <th>AP</th>\n",
       "      <td>36733.0</td>\n",
       "      <td>1013.070165</td>\n",
       "      <td>6.463346</td>\n",
       "      <td>985.850000</td>\n",
       "      <td>1008.8000</td>\n",
       "      <td>1012.6000</td>\n",
       "      <td>1017.0000</td>\n",
       "      <td>1036.6000</td>\n",
       "    </tr>\n",
       "    <tr>\n",
       "      <th>AH</th>\n",
       "      <td>36733.0</td>\n",
       "      <td>77.867015</td>\n",
       "      <td>14.461355</td>\n",
       "      <td>24.085000</td>\n",
       "      <td>68.1880</td>\n",
       "      <td>80.4700</td>\n",
       "      <td>89.3760</td>\n",
       "      <td>100.2000</td>\n",
       "    </tr>\n",
       "    <tr>\n",
       "      <th>AFDP</th>\n",
       "      <td>36733.0</td>\n",
       "      <td>3.925518</td>\n",
       "      <td>0.773936</td>\n",
       "      <td>2.087400</td>\n",
       "      <td>3.3556</td>\n",
       "      <td>3.9377</td>\n",
       "      <td>4.3769</td>\n",
       "      <td>7.6106</td>\n",
       "    </tr>\n",
       "    <tr>\n",
       "      <th>GTEP</th>\n",
       "      <td>36733.0</td>\n",
       "      <td>25.563801</td>\n",
       "      <td>4.195957</td>\n",
       "      <td>17.698000</td>\n",
       "      <td>23.1290</td>\n",
       "      <td>25.1040</td>\n",
       "      <td>29.0610</td>\n",
       "      <td>40.7160</td>\n",
       "    </tr>\n",
       "    <tr>\n",
       "      <th>TIT</th>\n",
       "      <td>36733.0</td>\n",
       "      <td>1081.428084</td>\n",
       "      <td>17.536373</td>\n",
       "      <td>1000.800000</td>\n",
       "      <td>1071.8000</td>\n",
       "      <td>1085.9000</td>\n",
       "      <td>1097.0000</td>\n",
       "      <td>1100.9000</td>\n",
       "    </tr>\n",
       "    <tr>\n",
       "      <th>TAT</th>\n",
       "      <td>36733.0</td>\n",
       "      <td>546.158517</td>\n",
       "      <td>6.842360</td>\n",
       "      <td>511.040000</td>\n",
       "      <td>544.7200</td>\n",
       "      <td>549.8800</td>\n",
       "      <td>550.0400</td>\n",
       "      <td>550.6100</td>\n",
       "    </tr>\n",
       "    <tr>\n",
       "      <th>TEY</th>\n",
       "      <td>36733.0</td>\n",
       "      <td>133.506404</td>\n",
       "      <td>15.618634</td>\n",
       "      <td>100.020000</td>\n",
       "      <td>124.4500</td>\n",
       "      <td>133.7300</td>\n",
       "      <td>144.0800</td>\n",
       "      <td>179.5000</td>\n",
       "    </tr>\n",
       "    <tr>\n",
       "      <th>CDP</th>\n",
       "      <td>36733.0</td>\n",
       "      <td>12.060525</td>\n",
       "      <td>1.088795</td>\n",
       "      <td>9.851800</td>\n",
       "      <td>11.4350</td>\n",
       "      <td>11.9650</td>\n",
       "      <td>12.8550</td>\n",
       "      <td>15.1590</td>\n",
       "    </tr>\n",
       "    <tr>\n",
       "      <th>CO</th>\n",
       "      <td>36733.0</td>\n",
       "      <td>2.372468</td>\n",
       "      <td>2.262672</td>\n",
       "      <td>0.000388</td>\n",
       "      <td>1.1824</td>\n",
       "      <td>1.7135</td>\n",
       "      <td>2.8429</td>\n",
       "      <td>44.1030</td>\n",
       "    </tr>\n",
       "    <tr>\n",
       "      <th>NOX</th>\n",
       "      <td>36733.0</td>\n",
       "      <td>65.293067</td>\n",
       "      <td>11.678357</td>\n",
       "      <td>25.905000</td>\n",
       "      <td>57.1620</td>\n",
       "      <td>63.8490</td>\n",
       "      <td>71.5480</td>\n",
       "      <td>119.9100</td>\n",
       "    </tr>\n",
       "  </tbody>\n",
       "</table>\n",
       "</div>"
      ],
      "text/plain": [
       "        count         mean        std          min        25%        50%  \\\n",
       "AT    36733.0    17.712726   7.447451    -6.234800    11.7810    17.8010   \n",
       "AP    36733.0  1013.070165   6.463346   985.850000  1008.8000  1012.6000   \n",
       "AH    36733.0    77.867015  14.461355    24.085000    68.1880    80.4700   \n",
       "AFDP  36733.0     3.925518   0.773936     2.087400     3.3556     3.9377   \n",
       "GTEP  36733.0    25.563801   4.195957    17.698000    23.1290    25.1040   \n",
       "TIT   36733.0  1081.428084  17.536373  1000.800000  1071.8000  1085.9000   \n",
       "TAT   36733.0   546.158517   6.842360   511.040000   544.7200   549.8800   \n",
       "TEY   36733.0   133.506404  15.618634   100.020000   124.4500   133.7300   \n",
       "CDP   36733.0    12.060525   1.088795     9.851800    11.4350    11.9650   \n",
       "CO    36733.0     2.372468   2.262672     0.000388     1.1824     1.7135   \n",
       "NOX   36733.0    65.293067  11.678357    25.905000    57.1620    63.8490   \n",
       "\n",
       "            75%        max  \n",
       "AT      23.6650    37.1030  \n",
       "AP    1017.0000  1036.6000  \n",
       "AH      89.3760   100.2000  \n",
       "AFDP     4.3769     7.6106  \n",
       "GTEP    29.0610    40.7160  \n",
       "TIT   1097.0000  1100.9000  \n",
       "TAT    550.0400   550.6100  \n",
       "TEY    144.0800   179.5000  \n",
       "CDP     12.8550    15.1590  \n",
       "CO       2.8429    44.1030  \n",
       "NOX     71.5480   119.9100  "
      ]
     },
     "metadata": {},
     "output_type": "display_data"
    }
   ],
   "source": [
    "display_all(df_raw.tail().T)\n",
    "display_all(df_raw.describe(include='all').T)"
   ]
  },
  {
   "cell_type": "code",
   "execution_count": 56,
   "metadata": {},
   "outputs": [
    {
     "data": {
      "text/plain": [
       "Text(0, 0.5, 'Number of Points')"
      ]
     },
     "execution_count": 56,
     "metadata": {},
     "output_type": "execute_result"
    },
    {
     "data": {
      "text/plain": [
       "<Figure size 720x360 with 0 Axes>"
      ]
     },
     "metadata": {},
     "output_type": "display_data"
    },
    {
     "data": {
      "image/png": "[encoded data removed]",
      "text/plain": [
       "<Figure size 720x360 with 1 Axes>"
      ]
     },
     "metadata": {},
     "output_type": "display_data"
    }
   ],
   "source": [
    "fig=plt.figure()\n",
    "df_raw.hist(column=\"NOX\", bins=100, legend=True)\n",
    "plt.xlabel(\"NOx Emissions\")\n",
    "plt.ylabel(\"Number of Points\")"
   ]
  },
  {
   "cell_type": "markdown",
   "metadata": {},
   "source": [
    "### Histogram of NOx Emissions\n",
    "The distribution above looks like a normal distribution around 65"
   ]
  },
  {
   "cell_type": "code",
   "execution_count": 57,
   "metadata": {},
   "outputs": [
    {
     "data": {
      "text/plain": [
       "Text(0, 0.5, 'TEY')"
      ]
     },
     "execution_count": 57,
     "metadata": {},
     "output_type": "execute_result"
    },
    {
     "data": {
      "image/png": "[encoded data removed]",
      "text/plain": [
       "<Figure size 720x360 with 1 Axes>"
      ]
     },
     "metadata": {},
     "output_type": "display_data"
    },
    {
     "data": {
      "image/png": "[encoded data removed]",
      "text/plain": [
       "<Figure size 720x360 with 1 Axes>"
      ]
     },
     "metadata": {},
     "output_type": "display_data"
    }
   ],
   "source": [
    "fig=plt.figure()\n",
    "plt.scatter(df_raw['TIT'], df_raw['TAT'], label = \"TIT vs TAT\")\n",
    "fig.legend(loc = 'upper right')\n",
    "plt.title(\"TIT vs TAT\")\n",
    "plt.xlabel(\"TIT\")\n",
    "plt.ylabel(\"TAT\")\n",
    "\n",
    "fig=plt.figure()\n",
    "plt.scatter(df_raw['TIT'], df_raw['TEY'], label = \"TIT vs TEY\")\n",
    "fig.legend(loc = 'upper right')\n",
    "plt.title(\"TIT vs TEY\")\n",
    "plt.xlabel(\"TIT\")\n",
    "plt.ylabel(\"TEY\")"
   ]
  },
  {
   "cell_type": "code",
   "execution_count": 58,
   "metadata": {
    "scrolled": true
   },
   "outputs": [
    {
     "name": "stdout",
     "output_type": "stream",
     "text": [
      "Pearson's Correlation Coefficient of TIT vs TAT: (-0.38086239362011787, 0.0)\n",
      "Pearson's Correlation Coefficient of TIT vs TEY: (0.9102972462822895, 0.0)\n"
     ]
    }
   ],
   "source": [
    "print(f\"Pearson's Correlation Coefficient of TIT vs TAT: {scipy.stats.pearsonr(df_raw['TIT'], df_raw['TAT'])}\")\n",
    "print(f\"Pearson's Correlation Coefficient of TIT vs TEY: {scipy.stats.pearsonr(df_raw['TIT'], df_raw['TEY'])}\")"
   ]
  },
  {
   "cell_type": "markdown",
   "metadata": {},
   "source": [
    "### Scatter Plots and Pearson's Correlation Coefficients of TIT vs TAT and TIT vs TEY\n",
    "There appears to be a non linear associations between TIT and TAT with a decreasing slope the higher TIT rises.\n",
    "On the other hand, there appears to be a linear relationship between TIT and TEY.\n",
    "\n",
    "In both cases, there seems to be a hard limitation to the sensor readings indicating that there may be readings that go beyond the range of the sensor that are incorrectly recorded which might affect the relationship inference from the scatter plots.\n",
    "\n",
    "Looking at the Pearson's correlation coefficients, this confirms our assumptions based on the scatter plots. For TIT vs TAT, a PCC of ~-0.381 indicates there isn't a strong linearity between the two variables, this might even be skewed higher because of the apparent limitation on TIT readings. For TIT vs TEY, a PCC of ~0.910 indicates a strong positive linear relationship between the variables as we can see in the scatter plot."
   ]
  },
  {
   "cell_type": "code",
   "execution_count": 59,
   "metadata": {},
   "outputs": [],
   "source": [
    "df_train, df_test = split_train_validation_dataset(df_raw, 0.80)"
   ]
  }
 ],
 "metadata": {
  "kernelspec": {
   "display_name": "Python 3",
   "language": "python",
   "name": "python3"
  },
  "language_info": {
   "codemirror_mode": {
    "name": "ipython",
    "version": 3
   },
   "file_extension": ".py",
   "mimetype": "text/x-python",
   "name": "python",
   "nbconvert_exporter": "python",
   "pygments_lexer": "ipython3",
   "version": "3.8.5"
  }
 },
 "nbformat": 4,
 "nbformat_minor": 4
}
