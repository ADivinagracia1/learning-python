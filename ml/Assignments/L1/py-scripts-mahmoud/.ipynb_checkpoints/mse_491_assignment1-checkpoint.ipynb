{
 "cells": [
  {
   "cell_type": "markdown",
   "metadata": {
    "id": "e2-dV7Ut_yDE"
   },
   "source": [
    "# MSE 491 Assignment 1 Regression\n",
    "\n",
    "### Mahmoud Kamaleldin 301324899\n",
    "### Andrei Divinagracia 301360608"
   ]
  },
  {
   "cell_type": "code",
   "execution_count": null,
   "metadata": {
    "colab": {
     "base_uri": "https://localhost:8080/"
    },
    "id": "1h1ycOHc_yDK",
    "outputId": "3b07f1a1-db0d-4215-e69c-53ae3eed3142"
   },
   "outputs": [
    {
     "name": "stdout",
     "output_type": "stream",
     "text": [
      "The autoreload extension is already loaded. To reload it, use:\n",
      "  %reload_ext autoreload\n"
     ]
    }
   ],
   "source": [
    "%load_ext autoreload\n",
    "%autoreload 2\n",
    "\n",
    "%matplotlib inline"
   ]
  },
  {
   "cell_type": "code",
   "execution_count": null,
   "metadata": {
    "id": "p0bmJlUi_yDL"
   },
   "outputs": [],
   "source": [
    "# Load General Libraries\n",
    "import numpy as np\n",
    "import pandas as pd\n",
    "import scipy\n",
    "import pickle\n",
    "import matplotlib.pyplot as plt\n",
    "import seaborn as sns\n",
    "import glob\n",
    "\n",
    "sns.set(rc={'figure.figsize':(15, 8)})"
   ]
  },
  {
   "cell_type": "markdown",
   "metadata": {
    "id": "eevZ491H_yDL"
   },
   "source": [
    "## Preprocessing Data"
   ]
  },
  {
   "cell_type": "code",
   "execution_count": null,
   "metadata": {
    "id": "PRsPmQxw_yDM"
   },
   "outputs": [],
   "source": [
    "def display_all(df):\n",
    "    with pd.option_context(\"display.max_rows\", 1000, \"display.max_columns\", 1000): \n",
    "        display(df)\n",
    "        \n",
    "def split_feats_targets(df, targets):\n",
    "    Y = df[targets].values\n",
    "    X = df.drop(columns=targets).values\n",
    "    \n",
    "    return X, Y\n",
    "\n",
    "def split_train_validation_dataset(df, split):\n",
    "    mask = np.random.rand(len(df)) < split\n",
    "    df_train = df[mask]\n",
    "    df_test = df[~mask]\n",
    "    \n",
    "    return df_train, df_test"
   ]
  },
  {
   "cell_type": "code",
   "execution_count": null,
   "metadata": {
    "id": "vWRPMD59_yDM"
   },
   "outputs": [],
   "source": [
    "extension = 'csv'\n",
    "all_filenames = [i for i in glob.glob('Gas Turbine Dataset/*.{}'.format(extension))]\n",
    "\n",
    "\n",
    "df_raw = pd.concat([pd.read_csv(f) for f in all_filenames])\n",
    "\n",
    "targets = [\"NOX\", \"CO\", \"TEY\"]\n",
    "features = [column for column in df_raw.columns if column not in targets]"
   ]
  },
  {
   "cell_type": "code",
   "execution_count": null,
   "metadata": {
    "colab": {
     "base_uri": "https://localhost:8080/"
    },
    "id": "r9y8wzdq_yDM",
    "outputId": "826f11fc-9c6b-45ea-b8d2-f5637aabdb28"
   },
   "outputs": [
    {
     "name": "stdout",
     "output_type": "stream",
     "text": [
      "Targets = ['NOX', 'CO', 'TEY']\n",
      "Features = ['AT', 'AP', 'AH', 'AFDP', 'GTEP', 'TIT', 'TAT', 'CDP']\n"
     ]
    }
   ],
   "source": [
    "print(f\"Targets = {targets}\")\n",
    "print(f\"Features = {features}\")"
   ]
  },
  {
   "cell_type": "code",
   "execution_count": null,
   "metadata": {
    "colab": {
     "base_uri": "https://localhost:8080/"
    },
    "id": "AMKI2Glk_yDN",
    "outputId": "c36659cf-f7a1-4240-c5c1-2a7a4d9df859"
   },
   "outputs": [
    {
     "name": "stdout",
     "output_type": "stream",
     "text": [
      "Is there any NaN values in df? False\n"
     ]
    }
   ],
   "source": [
    "print(f\"Is there any NaN values in df? {df_raw.isnull().values.any()}\")"
   ]
  },
  {
   "cell_type": "code",
   "execution_count": null,
   "metadata": {
    "colab": {
     "base_uri": "https://localhost:8080/",
     "height": 729
    },
    "id": "43fd4gSr_yDN",
    "outputId": "824f5a72-620a-4765-d7fe-f90f9ca1c2cf"
   },
   "outputs": [
    {
     "data": {
      "text/html": [
       "<div>\n",
       "<style scoped>\n",
       "    .dataframe tbody tr th:only-of-type {\n",
       "        vertical-align: middle;\n",
       "    }\n",
       "\n",
       "    .dataframe tbody tr th {\n",
       "        vertical-align: top;\n",
       "    }\n",
       "\n",
       "    .dataframe thead th {\n",
       "        text-align: right;\n",
       "    }\n",
       "</style>\n",
       "<table border=\"1\" class=\"dataframe\">\n",
       "  <thead>\n",
       "    <tr style=\"text-align: right;\">\n",
       "      <th></th>\n",
       "      <th>7153</th>\n",
       "      <th>7154</th>\n",
       "      <th>7155</th>\n",
       "      <th>7156</th>\n",
       "      <th>7157</th>\n",
       "    </tr>\n",
       "  </thead>\n",
       "  <tbody>\n",
       "    <tr>\n",
       "      <th>AT</th>\n",
       "      <td>4.6043</td>\n",
       "      <td>4.3537</td>\n",
       "      <td>4.5199</td>\n",
       "      <td>4.2789</td>\n",
       "      <td>3.3834</td>\n",
       "    </tr>\n",
       "    <tr>\n",
       "      <th>AP</th>\n",
       "      <td>1016.7000</td>\n",
       "      <td>1017.6000</td>\n",
       "      <td>1018.4000</td>\n",
       "      <td>1019.3000</td>\n",
       "      <td>1019.7000</td>\n",
       "    </tr>\n",
       "    <tr>\n",
       "      <th>AH</th>\n",
       "      <td>81.0560</td>\n",
       "      <td>80.6100</td>\n",
       "      <td>77.4020</td>\n",
       "      <td>76.5280</td>\n",
       "      <td>81.8840</td>\n",
       "    </tr>\n",
       "    <tr>\n",
       "      <th>AFDP</th>\n",
       "      <td>2.9386</td>\n",
       "      <td>2.7612</td>\n",
       "      <td>2.7753</td>\n",
       "      <td>2.6798</td>\n",
       "      <td>2.7124</td>\n",
       "    </tr>\n",
       "    <tr>\n",
       "      <th>GTEP</th>\n",
       "      <td>23.7660</td>\n",
       "      <td>21.7860</td>\n",
       "      <td>21.9210</td>\n",
       "      <td>21.2000</td>\n",
       "      <td>21.3280</td>\n",
       "    </tr>\n",
       "    <tr>\n",
       "      <th>TIT</th>\n",
       "      <td>1071.6000</td>\n",
       "      <td>1065.6000</td>\n",
       "      <td>1066.4000</td>\n",
       "      <td>1056.6000</td>\n",
       "      <td>1057.8000</td>\n",
       "    </tr>\n",
       "    <tr>\n",
       "      <th>TAT</th>\n",
       "      <td>547.2100</td>\n",
       "      <td>550.0400</td>\n",
       "      <td>549.9100</td>\n",
       "      <td>546.5900</td>\n",
       "      <td>546.3500</td>\n",
       "    </tr>\n",
       "    <tr>\n",
       "      <th>TEY</th>\n",
       "      <td>131.9700</td>\n",
       "      <td>124.6500</td>\n",
       "      <td>124.8100</td>\n",
       "      <td>119.4300</td>\n",
       "      <td>121.2500</td>\n",
       "    </tr>\n",
       "    <tr>\n",
       "      <th>CDP</th>\n",
       "      <td>11.6450</td>\n",
       "      <td>11.1970</td>\n",
       "      <td>11.1840</td>\n",
       "      <td>10.9530</td>\n",
       "      <td>11.1800</td>\n",
       "    </tr>\n",
       "    <tr>\n",
       "      <th>CO</th>\n",
       "      <td>2.3176</td>\n",
       "      <td>5.1828</td>\n",
       "      <td>4.9228</td>\n",
       "      <td>7.9450</td>\n",
       "      <td>9.9270</td>\n",
       "    </tr>\n",
       "    <tr>\n",
       "      <th>NOX</th>\n",
       "      <td>74.0150</td>\n",
       "      <td>81.5610</td>\n",
       "      <td>82.4960</td>\n",
       "      <td>91.2320</td>\n",
       "      <td>91.1440</td>\n",
       "    </tr>\n",
       "  </tbody>\n",
       "</table>\n",
       "</div>"
      ],
      "text/plain": [
       "           7153       7154       7155       7156       7157\n",
       "AT       4.6043     4.3537     4.5199     4.2789     3.3834\n",
       "AP    1016.7000  1017.6000  1018.4000  1019.3000  1019.7000\n",
       "AH      81.0560    80.6100    77.4020    76.5280    81.8840\n",
       "AFDP     2.9386     2.7612     2.7753     2.6798     2.7124\n",
       "GTEP    23.7660    21.7860    21.9210    21.2000    21.3280\n",
       "TIT   1071.6000  1065.6000  1066.4000  1056.6000  1057.8000\n",
       "TAT    547.2100   550.0400   549.9100   546.5900   546.3500\n",
       "TEY    131.9700   124.6500   124.8100   119.4300   121.2500\n",
       "CDP     11.6450    11.1970    11.1840    10.9530    11.1800\n",
       "CO       2.3176     5.1828     4.9228     7.9450     9.9270\n",
       "NOX     74.0150    81.5610    82.4960    91.2320    91.1440"
      ]
     },
     "metadata": {
      "tags": []
     },
     "output_type": "display_data"
    },
    {
     "data": {
      "text/html": [
       "<div>\n",
       "<style scoped>\n",
       "    .dataframe tbody tr th:only-of-type {\n",
       "        vertical-align: middle;\n",
       "    }\n",
       "\n",
       "    .dataframe tbody tr th {\n",
       "        vertical-align: top;\n",
       "    }\n",
       "\n",
       "    .dataframe thead th {\n",
       "        text-align: right;\n",
       "    }\n",
       "</style>\n",
       "<table border=\"1\" class=\"dataframe\">\n",
       "  <thead>\n",
       "    <tr style=\"text-align: right;\">\n",
       "      <th></th>\n",
       "      <th>count</th>\n",
       "      <th>mean</th>\n",
       "      <th>std</th>\n",
       "      <th>min</th>\n",
       "      <th>25%</th>\n",
       "      <th>50%</th>\n",
       "      <th>75%</th>\n",
       "      <th>max</th>\n",
       "    </tr>\n",
       "  </thead>\n",
       "  <tbody>\n",
       "    <tr>\n",
       "      <th>AT</th>\n",
       "      <td>36733.0</td>\n",
       "      <td>17.712726</td>\n",
       "      <td>7.447451</td>\n",
       "      <td>-6.234800</td>\n",
       "      <td>11.7810</td>\n",
       "      <td>17.8010</td>\n",
       "      <td>23.6650</td>\n",
       "      <td>37.1030</td>\n",
       "    </tr>\n",
       "    <tr>\n",
       "      <th>AP</th>\n",
       "      <td>36733.0</td>\n",
       "      <td>1013.070165</td>\n",
       "      <td>6.463346</td>\n",
       "      <td>985.850000</td>\n",
       "      <td>1008.8000</td>\n",
       "      <td>1012.6000</td>\n",
       "      <td>1017.0000</td>\n",
       "      <td>1036.6000</td>\n",
       "    </tr>\n",
       "    <tr>\n",
       "      <th>AH</th>\n",
       "      <td>36733.0</td>\n",
       "      <td>77.867015</td>\n",
       "      <td>14.461355</td>\n",
       "      <td>24.085000</td>\n",
       "      <td>68.1880</td>\n",
       "      <td>80.4700</td>\n",
       "      <td>89.3760</td>\n",
       "      <td>100.2000</td>\n",
       "    </tr>\n",
       "    <tr>\n",
       "      <th>AFDP</th>\n",
       "      <td>36733.0</td>\n",
       "      <td>3.925518</td>\n",
       "      <td>0.773936</td>\n",
       "      <td>2.087400</td>\n",
       "      <td>3.3556</td>\n",
       "      <td>3.9377</td>\n",
       "      <td>4.3769</td>\n",
       "      <td>7.6106</td>\n",
       "    </tr>\n",
       "    <tr>\n",
       "      <th>GTEP</th>\n",
       "      <td>36733.0</td>\n",
       "      <td>25.563801</td>\n",
       "      <td>4.195957</td>\n",
       "      <td>17.698000</td>\n",
       "      <td>23.1290</td>\n",
       "      <td>25.1040</td>\n",
       "      <td>29.0610</td>\n",
       "      <td>40.7160</td>\n",
       "    </tr>\n",
       "    <tr>\n",
       "      <th>TIT</th>\n",
       "      <td>36733.0</td>\n",
       "      <td>1081.428084</td>\n",
       "      <td>17.536373</td>\n",
       "      <td>1000.800000</td>\n",
       "      <td>1071.8000</td>\n",
       "      <td>1085.9000</td>\n",
       "      <td>1097.0000</td>\n",
       "      <td>1100.9000</td>\n",
       "    </tr>\n",
       "    <tr>\n",
       "      <th>TAT</th>\n",
       "      <td>36733.0</td>\n",
       "      <td>546.158517</td>\n",
       "      <td>6.842360</td>\n",
       "      <td>511.040000</td>\n",
       "      <td>544.7200</td>\n",
       "      <td>549.8800</td>\n",
       "      <td>550.0400</td>\n",
       "      <td>550.6100</td>\n",
       "    </tr>\n",
       "    <tr>\n",
       "      <th>TEY</th>\n",
       "      <td>36733.0</td>\n",
       "      <td>133.506404</td>\n",
       "      <td>15.618634</td>\n",
       "      <td>100.020000</td>\n",
       "      <td>124.4500</td>\n",
       "      <td>133.7300</td>\n",
       "      <td>144.0800</td>\n",
       "      <td>179.5000</td>\n",
       "    </tr>\n",
       "    <tr>\n",
       "      <th>CDP</th>\n",
       "      <td>36733.0</td>\n",
       "      <td>12.060525</td>\n",
       "      <td>1.088795</td>\n",
       "      <td>9.851800</td>\n",
       "      <td>11.4350</td>\n",
       "      <td>11.9650</td>\n",
       "      <td>12.8550</td>\n",
       "      <td>15.1590</td>\n",
       "    </tr>\n",
       "    <tr>\n",
       "      <th>CO</th>\n",
       "      <td>36733.0</td>\n",
       "      <td>2.372468</td>\n",
       "      <td>2.262672</td>\n",
       "      <td>0.000388</td>\n",
       "      <td>1.1824</td>\n",
       "      <td>1.7135</td>\n",
       "      <td>2.8429</td>\n",
       "      <td>44.1030</td>\n",
       "    </tr>\n",
       "    <tr>\n",
       "      <th>NOX</th>\n",
       "      <td>36733.0</td>\n",
       "      <td>65.293067</td>\n",
       "      <td>11.678357</td>\n",
       "      <td>25.905000</td>\n",
       "      <td>57.1620</td>\n",
       "      <td>63.8490</td>\n",
       "      <td>71.5480</td>\n",
       "      <td>119.9100</td>\n",
       "    </tr>\n",
       "  </tbody>\n",
       "</table>\n",
       "</div>"
      ],
      "text/plain": [
       "        count         mean        std          min        25%        50%  \\\n",
       "AT    36733.0    17.712726   7.447451    -6.234800    11.7810    17.8010   \n",
       "AP    36733.0  1013.070165   6.463346   985.850000  1008.8000  1012.6000   \n",
       "AH    36733.0    77.867015  14.461355    24.085000    68.1880    80.4700   \n",
       "AFDP  36733.0     3.925518   0.773936     2.087400     3.3556     3.9377   \n",
       "GTEP  36733.0    25.563801   4.195957    17.698000    23.1290    25.1040   \n",
       "TIT   36733.0  1081.428084  17.536373  1000.800000  1071.8000  1085.9000   \n",
       "TAT   36733.0   546.158517   6.842360   511.040000   544.7200   549.8800   \n",
       "TEY   36733.0   133.506404  15.618634   100.020000   124.4500   133.7300   \n",
       "CDP   36733.0    12.060525   1.088795     9.851800    11.4350    11.9650   \n",
       "CO    36733.0     2.372468   2.262672     0.000388     1.1824     1.7135   \n",
       "NOX   36733.0    65.293067  11.678357    25.905000    57.1620    63.8490   \n",
       "\n",
       "            75%        max  \n",
       "AT      23.6650    37.1030  \n",
       "AP    1017.0000  1036.6000  \n",
       "AH      89.3760   100.2000  \n",
       "AFDP     4.3769     7.6106  \n",
       "GTEP    29.0610    40.7160  \n",
       "TIT   1097.0000  1100.9000  \n",
       "TAT    550.0400   550.6100  \n",
       "TEY    144.0800   179.5000  \n",
       "CDP     12.8550    15.1590  \n",
       "CO       2.8429    44.1030  \n",
       "NOX     71.5480   119.9100  "
      ]
     },
     "metadata": {
      "tags": []
     },
     "output_type": "display_data"
    }
   ],
   "source": [
    "display_all(df_raw.tail().T)\n",
    "display_all(df_raw.describe(include='all').T)"
   ]
  },
  {
   "cell_type": "code",
   "execution_count": null,
   "metadata": {
    "colab": {
     "base_uri": "https://localhost:8080/",
     "height": 389
    },
    "id": "eL7UaX86_yDO",
    "outputId": "6a27f882-6107-4a7b-a676-0d8f404a4649"
   },
   "outputs": [
    {
     "data": {
      "text/plain": [
       "Text(0, 0.5, 'Number of Points')"
      ]
     },
     "execution_count": 15,
     "metadata": {
      "tags": []
     },
     "output_type": "execute_result"
    },
    {
     "data": {
      "text/plain": [
       "<Figure size 720x360 with 0 Axes>"
      ]
     },
     "metadata": {
      "tags": []
     },
     "output_type": "display_data"
    },
    {
     "data": {
      "image/png": "[encoded data removed]",
      "text/plain": [
       "<Figure size 720x360 with 1 Axes>"
      ]
     },
     "metadata": {
      "tags": []
     },
     "output_type": "display_data"
    }
   ],
   "source": [
    "fig=plt.figure()\n",
    "df_raw.hist(column=\"NOX\", bins=100, legend=True)\n",
    "plt.xlabel(\"NOx Emissions\")\n",
    "plt.ylabel(\"Number of Points\")"
   ]
  },
  {
   "cell_type": "markdown",
   "metadata": {
    "id": "_8LnhqVC_yDO"
   },
   "source": [
    "### Histogram of NOx Emissions\n",
    "The distribution above looks like a normal distribution around 65"
   ]
  },
  {
   "cell_type": "code",
   "execution_count": null,
   "metadata": {
    "colab": {
     "base_uri": "https://localhost:8080/",
     "height": 754
    },
    "id": "irQwEKbN_yDO",
    "outputId": "da54a02d-5f3b-47d2-b53d-a7c9edd63a22"
   },
   "outputs": [
    {
     "data": {
      "text/plain": [
       "Text(0, 0.5, 'TEY')"
      ]
     },
     "execution_count": 16,
     "metadata": {
      "tags": []
     },
     "output_type": "execute_result"
    },
    {
     "data": {
      "image/png": "[encoded data removed]",
      "text/plain": [
       "<Figure size 720x360 with 1 Axes>"
      ]
     },
     "metadata": {
      "tags": []
     },
     "output_type": "display_data"
    },
    {
     "data": {
      "image/png": "[encoded data removed]",
      "text/plain": [
       "<Figure size 720x360 with 1 Axes>"
      ]
     },
     "metadata": {
      "tags": []
     },
     "output_type": "display_data"
    }
   ],
   "source": [
    "fig=plt.figure()\n",
    "plt.scatter(df_raw['TIT'], df_raw['TAT'], label = \"TIT vs TAT\")\n",
    "fig.legend(loc = 'upper right')\n",
    "plt.title(\"TIT vs TAT\")\n",
    "plt.xlabel(\"TIT\")\n",
    "plt.ylabel(\"TAT\")\n",
    "\n",
    "fig=plt.figure()\n",
    "plt.scatter(df_raw['TIT'], df_raw['TEY'], label = \"TIT vs TEY\")\n",
    "fig.legend(loc = 'upper right')\n",
    "plt.title(\"TIT vs TEY\")\n",
    "plt.xlabel(\"TIT\")\n",
    "plt.ylabel(\"TEY\")"
   ]
  },
  {
   "cell_type": "code",
   "execution_count": null,
   "metadata": {
    "colab": {
     "base_uri": "https://localhost:8080/"
    },
    "id": "pXNpkx3y_yDO",
    "outputId": "d0264807-77ad-4f3f-9165-8c79fbcffe29",
    "scrolled": true
   },
   "outputs": [
    {
     "name": "stdout",
     "output_type": "stream",
     "text": [
      "Pearson's Correlation Coefficient of TIT vs TAT: (-0.3808623936201179, 0.0)\n",
      "Pearson's Correlation Coefficient of TIT vs TEY: (0.9102972462822896, 0.0)\n"
     ]
    }
   ],
   "source": [
    "print(f\"Pearson's Correlation Coefficient of TIT vs TAT: {scipy.stats.pearsonr(df_raw['TIT'], df_raw['TAT'])}\")\n",
    "print(f\"Pearson's Correlation Coefficient of TIT vs TEY: {scipy.stats.pearsonr(df_raw['TIT'], df_raw['TEY'])}\")"
   ]
  },
  {
   "cell_type": "markdown",
   "metadata": {
    "id": "7Lnn4rKS_yDP"
   },
   "source": [
    "### Scatter Plots and Pearson's Correlation Coefficients of TIT vs TAT and TIT vs TEY\n",
    "There appears to be a non linear associations between TIT and TAT with a decreasing slope the higher TIT rises.\n",
    "On the other hand, there appears to be a linear relationship between TIT and TEY.\n",
    "\n",
    "In both cases, there seems to be a hard limitation to the sensor readings indicating that there may be readings that go beyond the range of the sensor that are incorrectly recorded which might affect the relationship inference from the scatter plots.\n",
    "\n",
    "Looking at the Pearson's correlation coefficients, this confirms our assumptions based on the scatter plots. For TIT vs TAT, a PCC of ~-0.381 indicates there isn't a strong linearity between the two variables, this might even be skewed higher because of the apparent limitation on TIT readings. For TIT vs TEY, a PCC of ~0.910 indicates a strong positive linear relationship between the variables as we can see in the scatter plot."
   ]
  },
  {
   "cell_type": "code",
   "execution_count": null,
   "metadata": {
    "id": "DTmfOOW6_yDP"
   },
   "outputs": [],
   "source": [
    "df_train, df_test = split_train_validation_dataset(df_raw, 0.80)"
   ]
  },
  {
   "cell_type": "markdown",
   "metadata": {
    "id": "aRkOSORo_yDP"
   },
   "source": [
    "## Simple Linear Regression"
   ]
  },
  {
   "cell_type": "markdown",
   "metadata": {
    "id": "KGuVOAXV_yDP"
   },
   "source": [
    "#### Training"
   ]
  },
  {
   "cell_type": "code",
   "execution_count": null,
   "metadata": {
    "colab": {
     "base_uri": "https://localhost:8080/"
    },
    "id": "j3zV9cnu_yDP",
    "outputId": "09b69f19-0025-4136-ffe3-b6c22d898077"
   },
   "outputs": [
    {
     "name": "stdout",
     "output_type": "stream",
     "text": [
      "AT     -0.554943\n",
      "AP      0.191407\n",
      "AH      0.164344\n",
      "AFDP   -0.188474\n",
      "GTEP   -0.203404\n",
      "TIT    -0.216057\n",
      "TAT    -0.093647\n",
      "CDP    -0.173348\n",
      "NOX     1.000000\n",
      "Name: NOX, dtype: float64 \n",
      "\n",
      "AT     -0.171365\n",
      "AP      0.066378\n",
      "AH      0.105181\n",
      "AFDP   -0.446794\n",
      "GTEP   -0.517870\n",
      "TIT    -0.704373\n",
      "TAT     0.054815\n",
      "CDP    -0.549274\n",
      "CO      1.000000\n",
      "Name: CO, dtype: float64 \n",
      "\n",
      "AT     -0.091513\n",
      "AP      0.121398\n",
      "AH     -0.136093\n",
      "AFDP    0.666868\n",
      "GTEP    0.964494\n",
      "TIT     0.910625\n",
      "TAT    -0.680322\n",
      "CDP     0.988844\n",
      "TEY     1.000000\n",
      "Name: TEY, dtype: float64 \n",
      "\n"
     ]
    }
   ],
   "source": [
    "for target in targets:\n",
    "    print(df_train[features + [target]].corr()[target][:], \"\\n\")\n",
    "    "
   ]
  },
  {
   "cell_type": "markdown",
   "metadata": {
    "id": "kI9h8_mo_yDQ"
   },
   "source": [
    "Highest correlation for NOX was with AT: ~-0.559  \n",
    "Highest correlation for CO was with TIT: ~-0.706  \n",
    "Highest correlation for TEY was with CDP: ~0.989"
   ]
  },
  {
   "cell_type": "code",
   "execution_count": null,
   "metadata": {
    "id": "EQ3JImbR_yDQ"
   },
   "outputs": [],
   "source": [
    "# Fitting Linear Regression to the dataset\n",
    "from sklearn.linear_model import LinearRegression\n",
    "from sklearn.metrics import r2_score, mean_squared_error\n",
    "import math"
   ]
  },
  {
   "cell_type": "code",
   "execution_count": null,
   "metadata": {
    "id": "F4cT0IhX_yDQ"
   },
   "outputs": [],
   "source": [
    "NOX_lin_reg = LinearRegression()\n",
    "CO_lin_reg = LinearRegression()\n",
    "TEY_lin_reg = LinearRegression()"
   ]
  },
  {
   "cell_type": "code",
   "execution_count": null,
   "metadata": {
    "id": "WZGEGEIz_yDQ"
   },
   "outputs": [],
   "source": [
    "x_NOX_train = df_train[\"AT\"].to_numpy().reshape(-1,1)\n",
    "y_NOX_train = df_train[\"NOX\"].to_numpy()\n",
    "x_NOX_test = df_test[\"AT\"].to_numpy().reshape(-1,1)\n",
    "y_NOX_test = df_test[\"NOX\"].to_numpy()\n",
    "\n",
    "x_CO_train = df_train[\"TIT\"].to_numpy().reshape(-1,1)\n",
    "y_CO_train = df_train[\"CO\"].to_numpy()\n",
    "x_CO_test = df_test[\"TIT\"].to_numpy().reshape(-1,1)\n",
    "y_CO_test = df_test[\"CO\"].to_numpy()\n",
    "\n",
    "x_TEY_train = df_train[\"CDP\"].to_numpy().reshape(-1,1)\n",
    "y_TEY_train = df_train[\"TEY\"].to_numpy()\n",
    "x_TEY_test = df_test[\"CDP\"].to_numpy().reshape(-1,1)\n",
    "y_TEY_test = df_test[\"TEY\"].to_numpy()"
   ]
  },
  {
   "cell_type": "code",
   "execution_count": null,
   "metadata": {
    "id": "uCrG6c_d_yDQ"
   },
   "outputs": [],
   "source": [
    "NOX_lin_reg.fit(x_NOX_train, y_NOX_train)\n",
    "CO_lin_reg.fit(x_CO_train, y_CO_train)\n",
    "TEY_lin_reg.fit(x_TEY_train, y_TEY_train)\n",
    "\n",
    "pickle.dump(NOX_lin_reg, open('Model_NOX_lin_reg.pkl', 'wb'))\n",
    "pickle.dump(CO_lin_reg, open('Model_CO_lin_reg.pkl', 'wb'))\n",
    "pickle.dump(TEY_lin_reg, open('Model_TEY_lin_reg.pkl', 'wb'))"
   ]
  },
  {
   "cell_type": "markdown",
   "metadata": {
    "id": "N11Dunum_yDR"
   },
   "source": [
    "#### Evaluation"
   ]
  },
  {
   "cell_type": "code",
   "execution_count": null,
   "metadata": {
    "id": "nOvOL5ca_yDR"
   },
   "outputs": [],
   "source": [
    "def viz_linear(x, y, lin_model, title, xaxis, yaxis):\n",
    "    plt.scatter(x, y, color='red')\n",
    "    plt.plot(x, lin_model.predict(x), color='blue')\n",
    "    plt.title(title)\n",
    "    plt.xlabel(xaxis)\n",
    "    plt.ylabel(yaxis)\n",
    "    plt.show()\n",
    "    return\n",
    "\n",
    "def get_model_score(lin_model, x, y):\n",
    "    y_pred = lin_model.predict(x)\n",
    "    r2 = r2_score(y_pred, y)\n",
    "    rmse = mean_squared_error(y_pred, y, squared=False)\n",
    "    \n",
    "    return r2, rmse\n",
    "\n",
    "def rmse(x,y): \n",
    "    return math.sqrt(((x-y)**2).mean())"
   ]
  },
  {
   "cell_type": "code",
   "execution_count": null,
   "metadata": {
    "colab": {
     "base_uri": "https://localhost:8080/",
     "height": 1000
    },
    "id": "VBxaxg4r_yDR",
    "outputId": "4e2dae5b-0523-41c7-c535-33a8f4aef950"
   },
   "outputs": [
    {
     "data": {
      "image/png": "[encoded data removed]",
      "text/plain": [
       "<Figure size 720x360 with 1 Axes>"
      ]
     },
     "metadata": {
      "tags": []
     },
     "output_type": "display_data"
    },
    {
     "data": {
      "image/png": "[encoded data removed]",
      "text/plain": [
       "<Figure size 720x360 with 1 Axes>"
      ]
     },
     "metadata": {
      "tags": []
     },
     "output_type": "display_data"
    },
    {
     "data": {
      "image/png": "[encoded data removed]",
      "text/plain": [
       "<Figure size 720x360 with 1 Axes>"
      ]
     },
     "metadata": {
      "tags": []
     },
     "output_type": "display_data"
    }
   ],
   "source": [
    "viz_linear(x_NOX_train, y_NOX_train, NOX_lin_reg, \"Linear Regression: AT vs NOX\", \"AT\", \"NOX\")\n",
    "viz_linear(x_CO_train, y_CO_train, CO_lin_reg, \"Linear Regression: TIT vs CO\", \"TIT\", \"CO\")\n",
    "viz_linear(x_TEY_train, y_TEY_train, TEY_lin_reg, \"Linear Regression: CDP vs TEY\", \"CDP\", \"TEY\")"
   ]
  },
  {
   "cell_type": "code",
   "execution_count": null,
   "metadata": {
    "colab": {
     "base_uri": "https://localhost:8080/"
    },
    "id": "lWlgHdrT_yDR",
    "outputId": "1f271616-ca8e-44d1-d185-2105fd4082ce"
   },
   "outputs": [
    {
     "name": "stdout",
     "output_type": "stream",
     "text": [
      "Performance of linear regression model for NOX, train: R2 = -1.2471601867410147, RMSE = 9.721045026983932, test: R2 = -1.148230014003739, RMSE = 9.562352205722005\n",
      "Performance of linear regression model for CO, train: R2 = -0.01555223148053586, RMSE = 1.615669450139937, test: R2 = 0.042864821767576, RMSE = 1.5445705007812103\n",
      "Performance of linear regression model for TEY, train: R2 = 0.9773087800602906, RMSE = 2.3302325242372772, test: R2 = 0.9766594988852704, RMSE = 2.345898783131234\n"
     ]
    }
   ],
   "source": [
    "r2_NOX_test, rmse_NOX_test = get_model_score(NOX_lin_reg, x_NOX_test, y_NOX_test)\n",
    "r2_CO_test, rmse_CO_test = get_model_score(CO_lin_reg, x_CO_test, y_CO_test)\n",
    "r2_TEY_test, rmse_TEY_test = get_model_score(TEY_lin_reg, x_TEY_test, y_TEY_test)\n",
    "\n",
    "r2_NOX_train, rmse_NOX_train = get_model_score(NOX_lin_reg, x_NOX_train, y_NOX_train)\n",
    "r2_CO_train, rmse_CO_train = get_model_score(CO_lin_reg, x_CO_train, y_CO_train)\n",
    "r2_TEY_train, rmse_TEY_train = get_model_score(TEY_lin_reg, x_TEY_train, y_TEY_train)\n",
    "\n",
    "print(f\"Performance of linear regression model for NOX, train: R2 = {r2_NOX_train}, RMSE = {rmse_NOX_train}, test: R2 = {r2_NOX_test}, RMSE = {rmse_NOX_test}\")\n",
    "print(f\"Performance of linear regression model for CO, train: R2 = {r2_CO_train}, RMSE = {rmse_CO_train}, test: R2 = {r2_CO_test}, RMSE = {rmse_CO_test}\")\n",
    "print(f\"Performance of linear regression model for TEY, train: R2 = {r2_TEY_train}, RMSE = {rmse_TEY_train}, test: R2 = {r2_TEY_test}, RMSE = {rmse_TEY_test}\")"
   ]
  },
  {
   "cell_type": "markdown",
   "metadata": {
    "id": "unT9UVrG_yDS"
   },
   "source": [
    "### Bar Graphs for Simple Linear Regression\n",
    "Based on the graphs, the error for the NOX model which indicates that the model doesn't fit the dataset very well. For the CO model, there is smaller RMSE and less variance but outliers are still present. Finally for the TEY model, the RMSE hovers around the same range for all the points indicating that the points follow along with the linear regression model across the dataset."
   ]
  },
  {
   "cell_type": "code",
   "execution_count": null,
   "metadata": {
    "colab": {
     "base_uri": "https://localhost:8080/",
     "height": 485
    },
    "id": "Mxr98shHd_v6",
    "outputId": "a49a094e-44e8-4ada-af17-c6bc9c066a11"
   },
   "outputs": [
    {
     "data": {
      "image/png": "[encoded data removed]",
      "text/plain": [
       "<Figure size 1080x576 with 1 Axes>"
      ]
     },
     "metadata": {
      "tags": []
     },
     "output_type": "display_data"
    }
   ],
   "source": [
    "CO_lin_regPt2 = LinearRegression()\n",
    "\n",
    "datasplit = [0.50,0.70,0.90]\n",
    "resultDict = {}\n",
    "\n",
    "for pct in datasplit:\n",
    "  df_trainPt2, df_testPt2 = split_train_validation_dataset(df_raw, pct)\n",
    "  CO_lin_regPt2 = LinearRegression()\n",
    "\n",
    "  x_CO_trainPt2 = df_trainPt2[\"TIT\"].to_numpy().reshape(-1,1)\n",
    "  y_CO_trainPt2 = df_trainPt2[\"CO\"].to_numpy()\n",
    "  x_CO_testPt2 = df_testPt2[\"TIT\"].to_numpy().reshape(-1,1)\n",
    "  y_CO_testPt2 = df_testPt2[\"CO\"].to_numpy()\n",
    "\n",
    "  CO_lin_regPt2.fit(x_CO_trainPt2, y_CO_trainPt2)\n",
    "\n",
    "  _, rmse_CO_trainPt2 = get_model_score(CO_lin_regPt2, x_CO_trainPt2, y_CO_trainPt2)\n",
    "  _, rmse_CO_testPt2 = get_model_score(CO_lin_regPt2, x_CO_testPt2, y_CO_testPt2)\n",
    "\n",
    "  resultDict[f\"CO Train RMSE {pct*100}%\"] = rmse_CO_trainPt2\n",
    "  resultDict[f\"CO Test RMSE {pct*100}%\"] = rmse_CO_testPt2\n",
    "\n",
    "\n",
    "plt.bar(range(len(resultDict)), list(resultDict.values()), align='center')\n",
    "plt.xticks(range(len(resultDict)), list(resultDict.keys()))\n",
    "\n",
    "plt.show()\n"
   ]
  },
  {
   "cell_type": "markdown",
   "metadata": {
    "id": "PZ_YhGoIjvl_"
   },
   "source": [
    "The bigger the dataset provided to train the linear regression model the lower the RMSE became, this applied when calculating RMSE for both the train and test datasets meaning that the model has not overfitted"
   ]
  },
  {
   "cell_type": "code",
   "execution_count": null,
   "metadata": {
    "id": "P9OgE7sleRHA"
   },
   "outputs": [],
   "source": [
    "x_CO_train50 = df_train50[\"TIT\"].to_numpy().reshape(-1,1)\n",
    "y_CO_train50 = df_train50[\"CO\"].to_numpy()\n",
    "x_CO_test50 = df_test50[\"TIT\"].to_numpy().reshape(-1,1)\n",
    "y_CO_test50 = df_test50[\"CO\"].to_numpy()\n",
    "\n",
    "x_CO_train70 = df_train50[\"TIT\"].to_numpy().reshape(-1,1)\n",
    "y_CO_train70 = df_train50[\"CO\"].to_numpy()\n",
    "x_CO_test50 = df_test50[\"TIT\"].to_numpy().reshape(-1,1)\n",
    "y_CO_test50 = df_test50[\"CO\"].to_numpy()\n",
    "\n",
    "x_CO_train50 = df_train50[\"TIT\"].to_numpy().reshape(-1,1)\n",
    "y_CO_train50 = df_train50[\"CO\"].to_numpy()\n",
    "x_CO_test50 = df_test50[\"TIT\"].to_numpy().reshape(-1,1)\n",
    "y_CO_test50 = df_test50[\"CO\"].to_numpy()\n",
    "\n",
    "NOX_lin_reg.fit(x_NOX_train, y_NOX_train)\n",
    "CO_lin_reg.fit(x_CO_train, y_CO_train)\n",
    "TEY_lin_reg.fit(x_TEY_train, y_TEY_train)"
   ]
  },
  {
   "cell_type": "markdown",
   "metadata": {
    "id": "qmklDGLi_yDT"
   },
   "source": [
    "## Multiple Linear Regression"
   ]
  },
  {
   "cell_type": "markdown",
   "metadata": {
    "id": "1g1Ynt3H_yDT"
   },
   "source": [
    "#### Training"
   ]
  },
  {
   "cell_type": "code",
   "execution_count": null,
   "metadata": {
    "id": "XaYGSzOF_yDT"
   },
   "outputs": [],
   "source": [
    "CO_lin_reg_all = LinearRegression()\n",
    "TEY_lin_reg_all = LinearRegression()"
   ]
  },
  {
   "cell_type": "code",
   "execution_count": null,
   "metadata": {
    "id": "lCnACD9Q_yDT"
   },
   "outputs": [],
   "source": [
    "x_CO_train = df_train[features].to_numpy()\n",
    "y_CO_train = df_train[\"CO\"].to_numpy()\n",
    "x_CO_test = df_test[features].to_numpy()\n",
    "y_CO_test = df_test[\"CO\"].to_numpy()\n",
    "\n",
    "x_TEY_train = df_train[features].to_numpy()\n",
    "y_TEY_train = df_train[\"TEY\"].to_numpy()\n",
    "x_TEY_test = df_test[features].to_numpy()\n",
    "y_TEY_test = df_test[\"TEY\"].to_numpy()"
   ]
  },
  {
   "cell_type": "code",
   "execution_count": null,
   "metadata": {
    "id": "XDEiOsOR_yDT"
   },
   "outputs": [],
   "source": [
    "CO_lin_reg_all.fit(x_CO_train, y_CO_train)\n",
    "TEY_lin_reg_all.fit(x_TEY_train, y_TEY_train)\n",
    "\n",
    "pickle.dump(CO_lin_reg_all, open('Model_CO_lin_reg_all.pkl', 'wb'))\n",
    "pickle.dump(TEY_lin_reg_all, open('Model_TEY_lin_reg_all.pkl', 'wb'))"
   ]
  },
  {
   "cell_type": "markdown",
   "metadata": {
    "id": "iUf_Ajzf_yDT"
   },
   "source": [
    "#### Evaluation"
   ]
  },
  {
   "cell_type": "code",
   "execution_count": null,
   "metadata": {
    "colab": {
     "base_uri": "https://localhost:8080/"
    },
    "id": "rldyGRUF_yDT",
    "outputId": "52f7ac4b-622c-4d31-b697-40c038599e8e"
   },
   "outputs": [
    {
     "name": "stdout",
     "output_type": "stream",
     "text": [
      "Performance of linear regression model for CO: R2 = 0.23121739483545123, RMSE = 1.456655777513878\n",
      "Performance of linear regression model for TEY: R2 = 0.9959502847432756, RMSE = 0.9843404368247631\n"
     ]
    }
   ],
   "source": [
    "r2_CO, rmse_CO = get_model_score(CO_lin_reg_all, x_CO_test, y_CO_test)\n",
    "r2_TEY, rmse_TEY = get_model_score(TEY_lin_reg_all, x_TEY_test, y_TEY_test)\n",
    "\n",
    "print(f\"Performance of linear regression model for CO: R2 = {r2_CO}, RMSE = {rmse_CO}\")\n",
    "print(f\"Performance of linear regression model for TEY: R2 = {r2_TEY}, RMSE = {rmse_TEY}\")\n",
    "\n",
    "resultDict = {}\n",
    "resultDict[\"CO RMSE All Feats\"] = rmse_CO\n",
    "resultDict[\"TEY RMSE All Feats\"] = rmse_TEY"
   ]
  },
  {
   "cell_type": "code",
   "execution_count": null,
   "metadata": {
    "colab": {
     "base_uri": "https://localhost:8080/",
     "height": 485
    },
    "id": "VCCZTrkb_yDU",
    "outputId": "d8d636be-538c-4c1d-913d-96cb1e43d6b8"
   },
   "outputs": [
    {
     "data": {
      "image/png": "[encoded data removed]",
      "text/plain": [
       "<Figure size 1080x576 with 1 Axes>"
      ]
     },
     "metadata": {
      "tags": []
     },
     "output_type": "display_data"
    }
   ],
   "source": [
    "plt.bar(range(len(resultDict)), list(resultDict.values()), align='center')\n",
    "plt.xticks(range(len(resultDict)), list(resultDict.keys()))\n",
    "\n",
    "plt.show()"
   ]
  },
  {
   "cell_type": "markdown",
   "metadata": {
    "id": "6YdXOXxAmd0U"
   },
   "source": [
    "                                RMSE for Multiple Linear Regression Model Using 8 Features for CO and TEY"
   ]
  },
  {
   "cell_type": "markdown",
   "metadata": {
    "id": "6HvhU9I3_yDU"
   },
   "source": [
    "### Bar Graphs for Multiple Linear Regression\n",
    "As we can see from both R2 score, the RMSE and the bar graphs, both models improved dramatically when more features were used compared to single feature linear regression. More features doesn't always lead to a better model due to the risk of overfitting or correlatory reltionships between the features, however in this case the models did improve but this doesn't necessarily mean that 8 features is the optimal choice, a more rigirous selection of features may lead to better results."
   ]
  },
  {
   "cell_type": "code",
   "execution_count": null,
   "metadata": {
    "colab": {
     "base_uri": "https://localhost:8080/",
     "height": 1000
    },
    "id": "L9nBiYeV_yDU",
    "outputId": "b4de8644-6b0f-4b84-938d-a1c7b074b9b0"
   },
   "outputs": [
    {
     "name": "stdout",
     "output_type": "stream",
     "text": [
      "Feature: AT, Score: -0.3250804195098629\n",
      "Feature: AP, Score: -0.05713509272270234\n",
      "Feature: AH, Score: -0.0034526620787529994\n",
      "Feature: AFDP, Score: -0.16299026002413464\n",
      "Feature: GTEP, Score: 0.26719545183233867\n",
      "Feature: TIT, Score: 0.15879137687391223\n",
      "Feature: TAT, Score: 0.053492127948773505\n",
      "Feature: CDP, Score: 11.228606668342591\n"
     ]
    },
    {
     "data": {
      "image/png": "[encoded data removed]",
      "text/plain": [
       "<Figure size 1080x576 with 1 Axes>"
      ]
     },
     "metadata": {
      "tags": []
     },
     "output_type": "display_data"
    },
    {
     "name": "stdout",
     "output_type": "stream",
     "text": [
      "Feature: AT, Score: 0.014216826301436869\n",
      "Feature: AP, Score: 0.008190834540222583\n",
      "Feature: AH, Score: -0.007111866421322582\n",
      "Feature: AFDP, Score: -0.10564589812591502\n",
      "Feature: GTEP, Score: 0.04072117579647502\n",
      "Feature: TIT, Score: -0.10279004551625665\n",
      "Feature: TAT, Score: -0.0913649570428927\n",
      "Feature: CDP, Score: -0.16813861624064644\n"
     ]
    },
    {
     "data": {
      "image/png": "[encoded data removed]",
      "text/plain": [
       "<Figure size 1080x576 with 1 Axes>"
      ]
     },
     "metadata": {
      "tags": []
     },
     "output_type": "display_data"
    }
   ],
   "source": [
    "importance = [[], []]\n",
    "importance[0] = list(TEY_lin_reg_all.coef_)\n",
    "importance[1] = features\n",
    "\n",
    "# summarize feature importance\n",
    "for i in range(0, len(importance[0])):\n",
    "\tprint(f'Feature: {importance[1][i]}, Score: {importance[0][i]}')\n",
    "# plot feature importance\n",
    "plt.bar(importance[1], importance[0])\n",
    "plt.show()\n",
    "\n",
    "importance = [[], []]\n",
    "importance[0] = list(CO_lin_reg_all.coef_)\n",
    "importance[1] = features\n",
    "\n",
    "# summarize feature importance\n",
    "for i in range(0, len(importance[0])):\n",
    "\tprint(f'Feature: {importance[1][i]}, Score: {importance[0][i]}')\n",
    "# plot feature importance\n",
    "plt.bar(importance[1], importance[0])\n",
    "plt.show()"
   ]
  },
  {
   "cell_type": "markdown",
   "metadata": {
    "id": "gAjKds8h_yDV"
   },
   "source": [
    "## Multiple Linear Regression with Feature Selection"
   ]
  },
  {
   "cell_type": "markdown",
   "metadata": {
    "id": "9ioHUSPC_yDV"
   },
   "source": [
    "#### Feature Selection"
   ]
  },
  {
   "cell_type": "code",
   "execution_count": null,
   "metadata": {
    "colab": {
     "base_uri": "https://localhost:8080/"
    },
    "id": "2iJY1hI-_yDV",
    "outputId": "b3225c9b-f7fe-4dca-d7dd-c53d35917b8d"
   },
   "outputs": [
    {
     "name": "stdout",
     "output_type": "stream",
     "text": [
      "AT      0.171365\n",
      "AP      0.066378\n",
      "AH      0.105181\n",
      "AFDP    0.446794\n",
      "GTEP    0.517870\n",
      "TIT     0.704373\n",
      "TAT     0.054815\n",
      "CDP     0.549274\n",
      "Name: CO, dtype: float64 \n",
      "\n",
      "4 Most important features for CO: ['TIT', 'CDP', 'GTEP', 'AFDP'] \n",
      "\n",
      "AT      0.091513\n",
      "AP      0.121398\n",
      "AH      0.136093\n",
      "AFDP    0.666868\n",
      "GTEP    0.964494\n",
      "TIT     0.910625\n",
      "TAT     0.680322\n",
      "CDP     0.988844\n",
      "Name: TEY, dtype: float64 \n",
      "\n",
      "4 Most important features for TEY: ['CDP', 'GTEP', 'TIT', 'TAT'] \n",
      "\n"
     ]
    }
   ],
   "source": [
    "CO_feat_correlation = df_train[features + [\"CO\"]].corr()[\"CO\"][:].drop(\"CO\").abs()\n",
    "CO_impt_feats = []\n",
    "print(CO_feat_correlation, \"\\n\")\n",
    "\n",
    "for i in range(0,4):\n",
    "    max_corr = CO_feat_correlation.idxmax()\n",
    "    CO_impt_feats.append(max_corr)\n",
    "    CO_feat_correlation = CO_feat_correlation.drop(max_corr)\n",
    "    \n",
    "    \n",
    "print(f\"4 Most important features for CO: {CO_impt_feats}\", \"\\n\")\n",
    "\n",
    "TEY_feat_correlation = df_train[features + [\"TEY\"]].corr()[\"TEY\"][:].drop(\"TEY\").abs()\n",
    "TEY_impt_feats = []\n",
    "print(TEY_feat_correlation, \"\\n\")\n",
    "\n",
    "for i in range(0,4):\n",
    "    max_corr = TEY_feat_correlation.idxmax()\n",
    "    TEY_impt_feats.append(max_corr)\n",
    "    TEY_feat_correlation = TEY_feat_correlation.drop(max_corr)\n",
    "    \n",
    "    \n",
    "print(f\"4 Most important features for TEY: {TEY_impt_feats}\", \"\\n\")"
   ]
  },
  {
   "cell_type": "markdown",
   "metadata": {
    "id": "dFFyrbB-_yDV"
   },
   "source": [
    "Based on the correlation coefficients calculated, we select the indicated features for the model training"
   ]
  },
  {
   "cell_type": "markdown",
   "metadata": {
    "id": "CXyYMyJn_yDV"
   },
   "source": [
    "#### Training"
   ]
  },
  {
   "cell_type": "code",
   "execution_count": null,
   "metadata": {
    "id": "JWxxkdU5_yDV"
   },
   "outputs": [],
   "source": [
    "CO_lin_reg_imp = LinearRegression()\n",
    "TEY_lin_reg_imp = LinearRegression()"
   ]
  },
  {
   "cell_type": "code",
   "execution_count": null,
   "metadata": {
    "id": "LSSr3_EC_yDW"
   },
   "outputs": [],
   "source": [
    "x_CO_train = df_train[CO_impt_feats].to_numpy()\n",
    "y_CO_train = df_train[\"CO\"].to_numpy()\n",
    "x_CO_test = df_test[CO_impt_feats].to_numpy()\n",
    "y_CO_test = df_test[\"CO\"].to_numpy()\n",
    "\n",
    "x_TEY_train = df_train[TEY_impt_feats].to_numpy()\n",
    "y_TEY_train = df_train[\"TEY\"].to_numpy()\n",
    "x_TEY_test = df_test[TEY_impt_feats].to_numpy()\n",
    "y_TEY_test = df_test[\"TEY\"].to_numpy()"
   ]
  },
  {
   "cell_type": "code",
   "execution_count": null,
   "metadata": {
    "id": "4jUQemQs_yDW"
   },
   "outputs": [],
   "source": [
    "CO_lin_reg_imp.fit(x_CO_train, y_CO_train)\n",
    "TEY_lin_reg_imp.fit(x_TEY_train, y_TEY_train)\n",
    "\n",
    "pickle.dump(CO_lin_reg_imp, open('Model_CO_lin_reg_4_imp.pkl', 'wb'))\n",
    "pickle.dump(TEY_lin_reg_imp, open('Model_TEY_lin_reg_4_imp.pkl', 'wb'))"
   ]
  },
  {
   "cell_type": "markdown",
   "metadata": {
    "id": "yJMaYTjt_yDW"
   },
   "source": [
    "#### Evaluation"
   ]
  },
  {
   "cell_type": "code",
   "execution_count": null,
   "metadata": {
    "colab": {
     "base_uri": "https://localhost:8080/"
    },
    "id": "-g3ITWNp_yDW",
    "outputId": "304f310a-f8d9-42ee-d9f8-1d253eb51428"
   },
   "outputs": [
    {
     "name": "stdout",
     "output_type": "stream",
     "text": [
      "Performance of linear regression model for CO: R2 = 0.20392402201778081, RMSE = 1.4717009481149488\n",
      "Performance of linear regression model for TEY: R2 = 0.9777172630254437, RMSE = 2.2916945641210966\n"
     ]
    }
   ],
   "source": [
    "r2_CO, rmse_CO = get_model_score(CO_lin_reg_imp, x_CO_test, y_CO_test)\n",
    "r2_TEY, rmse_TEY = get_model_score(TEY_lin_reg_imp, x_TEY_test, y_TEY_test)\n",
    "\n",
    "print(f\"Performance of linear regression model for CO: R2 = {r2_CO}, RMSE = {rmse_CO}\")\n",
    "print(f\"Performance of linear regression model for TEY: R2 = {r2_TEY}, RMSE = {rmse_TEY}\")\n",
    "\n",
    "resultDict[\"CO RMSE 4 Feats\"] = rmse_CO\n",
    "resultDict[\"TEY RMSE 4 Feats\"] = rmse_TEY"
   ]
  },
  {
   "cell_type": "code",
   "execution_count": null,
   "metadata": {
    "colab": {
     "base_uri": "https://localhost:8080/",
     "height": 496
    },
    "id": "deD8yTa3_yDW",
    "outputId": "5f356ecc-c366-42a8-bf1d-862c82bfa991"
   },
   "outputs": [
    {
     "data": {
      "image/png": "[encoded data removed]",
      "text/plain": [
       "<Figure size 1080x576 with 1 Axes>"
      ]
     },
     "metadata": {
      "tags": []
     },
     "output_type": "display_data"
    }
   ],
   "source": [
    "displayDict = {\n",
    "    \"All Feats\":{\n",
    "       \"CO\": resultDict[\"CO RMSE All Feats\"],\n",
    "       \"TEY\": resultDict[\"TEY RMSE All Feats\"],\n",
    "    },\n",
    "    \"4 Feats\":{\n",
    "       \"CO\": resultDict[\"CO RMSE 4 Feats\"],\n",
    "       \"TEY\": resultDict[\"TEY RMSE 4 Feats\"],\n",
    "    }\n",
    "}\n",
    "\n",
    "\n",
    "pd.DataFrame(displayDict).plot(kind='bar')\n",
    "plt.show()"
   ]
  },
  {
   "cell_type": "markdown",
   "metadata": {
    "id": "SLoPCmL8_yDX"
   },
   "source": [
    "### Bar Graphs for Multiple Linear Regression with 4 Features\n",
    "This time using the 4 most important features for both models we observe something interesting. For the CO model, the performance does not change much so the speed of the model could be improved with reduced feature without much of an effect on accuracy. However, for the TEY model, the perfomance was decreased."
   ]
  },
  {
   "cell_type": "markdown",
   "metadata": {
    "id": "sPzBoF9o_yDX"
   },
   "source": [
    "## Polynomial Regression"
   ]
  },
  {
   "cell_type": "code",
   "execution_count": null,
   "metadata": {
    "id": "fLXDMS8T_yDX"
   },
   "outputs": [],
   "source": [
    "from sklearn import preprocessing\n",
    "from sklearn.pipeline import make_pipeline\n",
    "from sklearn.preprocessing import PolynomialFeatures"
   ]
  },
  {
   "cell_type": "markdown",
   "metadata": {
    "id": "Md4b41a0_yDX"
   },
   "source": [
    "#### Training"
   ]
  },
  {
   "cell_type": "code",
   "execution_count": null,
   "metadata": {
    "id": "-4K8gsvf_yDX"
   },
   "outputs": [],
   "source": [
    "x_TEY_train = df_train[TEY_impt_feats].to_numpy()\n",
    "y_TEY_train = df_train[\"TEY\"].to_numpy()\n",
    "x_TEY_test = df_test[TEY_impt_feats].to_numpy()\n",
    "y_TEY_test = df_test[\"TEY\"].to_numpy()\n",
    "\n",
    "scaler2 = preprocessing.StandardScaler()\n",
    "scaler5 = preprocessing.StandardScaler()\n",
    "scaler8 = preprocessing.StandardScaler()"
   ]
  },
  {
   "cell_type": "code",
   "execution_count": null,
   "metadata": {
    "colab": {
     "base_uri": "https://localhost:8080/"
    },
    "id": "HCmm_GW8_yDX",
    "outputId": "8a355d34-8405-4cc1-be26-952df6fc2e91"
   },
   "outputs": [
    {
     "data": {
      "text/plain": [
       "Pipeline(memory=None,\n",
       "         steps=[('polynomialfeatures',\n",
       "                 PolynomialFeatures(degree=2, include_bias=True,\n",
       "                                    interaction_only=False, order='C')),\n",
       "                ('standardscaler',\n",
       "                 StandardScaler(copy=True, with_mean=True, with_std=True)),\n",
       "                ('linearregression',\n",
       "                 LinearRegression(copy_X=True, fit_intercept=True, n_jobs=None,\n",
       "                                  normalize=False))],\n",
       "         verbose=False)"
      ]
     },
     "execution_count": 77,
     "metadata": {
      "tags": []
     },
     "output_type": "execute_result"
    }
   ],
   "source": [
    "polyreg2_TEY = make_pipeline(PolynomialFeatures(2),scaler2,LinearRegression())\n",
    "polyreg2_TEY.fit(x_TEY_train, y_TEY_train)"
   ]
  },
  {
   "cell_type": "code",
   "execution_count": null,
   "metadata": {
    "colab": {
     "base_uri": "https://localhost:8080/"
    },
    "id": "dmIrAEjZ_yDY",
    "outputId": "0336978b-5a84-44e0-8722-d695f85a7c00"
   },
   "outputs": [
    {
     "data": {
      "text/plain": [
       "Pipeline(memory=None,\n",
       "         steps=[('polynomialfeatures',\n",
       "                 PolynomialFeatures(degree=5, include_bias=True,\n",
       "                                    interaction_only=False, order='C')),\n",
       "                ('standardscaler',\n",
       "                 StandardScaler(copy=True, with_mean=True, with_std=True)),\n",
       "                ('linearregression',\n",
       "                 LinearRegression(copy_X=True, fit_intercept=True, n_jobs=None,\n",
       "                                  normalize=False))],\n",
       "         verbose=False)"
      ]
     },
     "execution_count": 78,
     "metadata": {
      "tags": []
     },
     "output_type": "execute_result"
    }
   ],
   "source": [
    "polyreg5_TEY = make_pipeline(PolynomialFeatures(5),scaler5,LinearRegression())\n",
    "polyreg5_TEY.fit(x_TEY_train, y_TEY_train)"
   ]
  },
  {
   "cell_type": "code",
   "execution_count": null,
   "metadata": {
    "colab": {
     "base_uri": "https://localhost:8080/"
    },
    "id": "7VAWgpq9_yDY",
    "outputId": "1a99adf8-0dd3-4220-b1fa-2dded9f727b0"
   },
   "outputs": [
    {
     "data": {
      "text/plain": [
       "Pipeline(memory=None,\n",
       "         steps=[('polynomialfeatures',\n",
       "                 PolynomialFeatures(degree=11, include_bias=True,\n",
       "                                    interaction_only=False, order='C')),\n",
       "                ('standardscaler',\n",
       "                 StandardScaler(copy=True, with_mean=True, with_std=True)),\n",
       "                ('linearregression',\n",
       "                 LinearRegression(copy_X=True, fit_intercept=True, n_jobs=-1,\n",
       "                                  normalize=False))],\n",
       "         verbose=False)"
      ]
     },
     "execution_count": 79,
     "metadata": {
      "tags": []
     },
     "output_type": "execute_result"
    }
   ],
   "source": [
    "polyreg11_TEY = make_pipeline(PolynomialFeatures(11),scaler8,LinearRegression(n_jobs=-1))\n",
    "polyreg11_TEY.fit(x_TEY_train, y_TEY_train)"
   ]
  },
  {
   "cell_type": "code",
   "execution_count": null,
   "metadata": {
    "id": "qGI-kU-2_yDY"
   },
   "outputs": [],
   "source": [
    "pickle.dump(polyreg11_TEY, open('Model_polyreg11_TEY.pkl', 'wb'))\n",
    "pickle.dump(polyreg5_TEY, open('Model_polyreg5_TEY.pkl', 'wb'))\n",
    "pickle.dump(polyreg2_TEY, open('Model_polyreg2_TEY.pkl', 'wb'))"
   ]
  },
  {
   "cell_type": "markdown",
   "metadata": {
    "id": "2dUgOptt_yDY"
   },
   "source": [
    "#### Evaluation"
   ]
  },
  {
   "cell_type": "code",
   "execution_count": null,
   "metadata": {
    "colab": {
     "base_uri": "https://localhost:8080/"
    },
    "id": "6VWwGXgJ_yDY",
    "outputId": "8b795cce-6870-4789-b7ee-a0a9e0bc995f"
   },
   "outputs": [
    {
     "name": "stdout",
     "output_type": "stream",
     "text": [
      "Performance of 2nd order polynomial regression model for TEY: R2 = 0.9832445217014364, RMSE = 1.9908992904803506\n",
      "Performance of linear regression model for TEY: R2 = 0.9870761372554786, RMSE = 1.752718704614293\n",
      "Performance of linear regression model for TEY: R2 = 0.336775825442049, RMSE = 20.65560385704339\n"
     ]
    }
   ],
   "source": [
    "r2_TEY_2, rmse_TEY_2 = get_model_score(polyreg2_TEY, x_TEY_test, y_TEY_test)\n",
    "TEY_rmse_list_2 = [rmse(y_pred, y_true) for y_pred, y_true in zip(polyreg2_TEY.predict(x_TEY_test), y_TEY_test)]\n",
    "\n",
    "r2_TEY_5, rmse_TEY_5 = get_model_score(polyreg5_TEY, x_TEY_test, y_TEY_test)\n",
    "TEY_rmse_list_5 = [rmse(y_pred, y_true) for y_pred, y_true in zip(polyreg5_TEY.predict(x_TEY_test), y_TEY_test)]\n",
    "\n",
    "r2_TEY_11, rmse_TEY_11 = get_model_score(polyreg11_TEY, x_TEY_test, y_TEY_test)\n",
    "TEY_rmse_list_11 = [rmse(y_pred, y_true) for y_pred, y_true in zip(polyreg11_TEY.predict(x_TEY_test), y_TEY_test)]\n",
    "\n",
    "print(f\"Performance of 2nd order polynomial regression model for TEY: R2 = {r2_TEY_2}, RMSE = {rmse_TEY_2}\")\n",
    "print(f\"Performance of linear regression model for TEY: R2 = {r2_TEY_5}, RMSE = {rmse_TEY_5}\")\n",
    "print(f\"Performance of linear regression model for TEY: R2 = {r2_TEY_11}, RMSE = {rmse_TEY_11}\")\n",
    "\n",
    "resultDict = {\n",
    "    \"TEY RMSE 2nd Order\": rmse_TEY_2,\n",
    "    \"TEY RMSE 5th Order\": rmse_TEY_5,\n",
    "    \"TEY RMSE 11th Order\": rmse_TEY_11,    \n",
    "}"
   ]
  },
  {
   "cell_type": "code",
   "execution_count": null,
   "metadata": {
    "colab": {
     "base_uri": "https://localhost:8080/",
     "height": 485
    },
    "id": "xPrdPAci_yDZ",
    "outputId": "3aabca27-8458-4cd8-c9ab-874f88e486f4"
   },
   "outputs": [
    {
     "data": {
      "image/png": "[encoded data removed]",
      "text/plain": [
       "<Figure size 1080x576 with 1 Axes>"
      ]
     },
     "metadata": {
      "tags": []
     },
     "output_type": "display_data"
    }
   ],
   "source": [
    "plt.bar(range(len(resultDict)), list(resultDict.values()), align='center')\n",
    "plt.xticks(range(len(resultDict)), list(resultDict.keys()))\n",
    "\n",
    "plt.show()"
   ]
  },
  {
   "cell_type": "markdown",
   "metadata": {
    "id": "Yor6zcmor3bS"
   },
   "source": [
    "We can observe from this bar chart that the performance of the model improves from 2nd order to 5th order. Increasing the order of the polynomial to 11th order causes the model to overfit meaning that it does not generalize well for a new point and so the RMSE shoots up by more than 1000%"
   ]
  },
  {
   "cell_type": "code",
   "execution_count": null,
   "metadata": {
    "colab": {
     "base_uri": "https://localhost:8080/"
    },
    "id": "YiRk_WqS_yDZ",
    "outputId": "9d870195-5b8a-493a-a957-2bebb3908f35"
   },
   "outputs": [
    {
     "name": "stdout",
     "output_type": "stream",
     "text": [
      "Model took 0.0004899501800537109 seconds to predict on gt_2015.csv\n"
     ]
    }
   ],
   "source": [
    "import time\n",
    "\n",
    "df = pd.read_csv(\"Gas Turbine Dataset/gt_2015.csv\")\n",
    "targets = [\"NOX\", \"CO\", \"TEY\"]\n",
    "features = [column for column in df.columns if column not in targets]\n",
    "\n",
    "x_test = df[features].to_numpy()\n",
    "y_test = df[\"TEY\"].to_numpy()\n",
    "\n",
    "lin_model = pickle.load(open(\"Model_TEY_lin_reg_all.pkl\", 'rb'))\n",
    "\n",
    "start = time.time()\n",
    "y_pred = lin_model.predict(x_test)\n",
    "end = time.time()\n",
    "\n",
    "print(f\"Model took {end-start} seconds to predict on gt_2015.csv\")"
   ]
  },
  {
   "cell_type": "code",
   "execution_count": null,
   "metadata": {
    "id": "GMS6_4d73Yfo"
   },
   "outputs": [],
   "source": []
  }
 ],
 "metadata": {
  "accelerator": "GPU",
  "colab": {
   "collapsed_sections": [
    "gAjKds8h_yDV"
   ],
   "machine_shape": "hm",
   "name": "mse-491-assignment1.ipynb",
   "provenance": []
  },
  "kernelspec": {
   "display_name": "Python 3",
   "language": "python",
   "name": "python3"
  },
  "language_info": {
   "codemirror_mode": {
    "name": "ipython",
    "version": 3
   },
   "file_extension": ".py",
   "mimetype": "text/x-python",
   "name": "python",
   "nbconvert_exporter": "python",
   "pygments_lexer": "ipython3",
   "version": "3.8.5"
  }
 },
 "nbformat": 4,
 "nbformat_minor": 1
}
