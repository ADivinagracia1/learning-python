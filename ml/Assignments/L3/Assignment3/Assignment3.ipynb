{
 "cells": [
  {
   "cell_type": "markdown",
   "metadata": {
    "id": "_v_6vNOSZfip"
   },
   "source": [
    "## Install tensorflow datasets"
   ]
  },
  {
   "cell_type": "code",
   "execution_count": 1,
   "metadata": {
    "id": "Vvh8CJ_7f_BW"
   },
   "outputs": [
    {
     "name": "stdout",
     "output_type": "stream",
     "text": [
      "Note: you may need to restart the kernel to use updated packages.\n"
     ]
    },
    {
     "name": "stderr",
     "output_type": "stream",
     "text": [
      "ERROR: After October 2020 you may experience errors when installing or updating packages. This is because pip will change the way that it resolves dependency conflicts.\n",
      "\n",
      "We recommend you use --use-feature=2020-resolver to test your packages with the new resolver before it becomes the default.\n",
      "\n",
      "tensorflow-metadata 0.28.0 requires absl-py<0.11,>=0.9, but you'll have absl-py 0.11.0 which is incompatible.\n"
     ]
    }
   ],
   "source": [
    "pip install -q tensorflow tensorflow-datasets"
   ]
  },
  {
   "cell_type": "markdown",
   "metadata": {
    "id": "wTMs24Y1gEEG"
   },
   "source": [
    "## Import Necessary Libraries"
   ]
  },
  {
   "cell_type": "code",
   "execution_count": null,
   "metadata": {
    "id": "wTC_pP87gIkG"
   },
   "outputs": [],
   "source": [
    "import matplotlib.pyplot as plt\n",
    "import numpy as np\n",
    "\n",
    "import tensorflow as tf\n",
    "import tensorflow_datasets as tfds\n",
    "\n",
    "from tensorflow import keras\n"
   ]
  },
  {
   "cell_type": "markdown",
   "metadata": {
    "id": "KhJUhH-vge82"
   },
   "source": [
    "## View Available Tensorflow Datasets"
   ]
  },
  {
   "cell_type": "code",
   "execution_count": null,
   "metadata": {
    "id": "hKqBKcLthj7A"
   },
   "outputs": [],
   "source": [
    "tfds.list_builders()"
   ]
  },
  {
   "cell_type": "markdown",
   "metadata": {
    "id": "Mj-hCwENhrQ-"
   },
   "source": [
    "## Choose Builder and Print out Data Information"
   ]
  },
  {
   "cell_type": "code",
   "execution_count": null,
   "metadata": {
    "id": "2-DCEGhnh_4m"
   },
   "outputs": [],
   "source": []
  },
  {
   "cell_type": "markdown",
   "metadata": {
    "id": "jxzo48KfiiGH"
   },
   "source": [
    "## Load the Data and Split Train and Test Sets"
   ]
  },
  {
   "cell_type": "code",
   "execution_count": null,
   "metadata": {
    "id": "NNfZOqrcioeH"
   },
   "outputs": [],
   "source": [
    "ds_train = \n",
    "ds_test = "
   ]
  },
  {
   "cell_type": "markdown",
   "metadata": {
    "id": "rrVXk6-ji7ez"
   },
   "source": [
    "## Show Three Example Images"
   ]
  },
  {
   "cell_type": "code",
   "execution_count": null,
   "metadata": {
    "id": "57ef-WlcjR7H"
   },
   "outputs": [],
   "source": [
    "fig = "
   ]
  },
  {
   "cell_type": "markdown",
   "metadata": {
    "id": "FC2jJLEdjbCx"
   },
   "source": [
    "## Convert tensorflow dataset format into numpy format & Adjust the number of colour channels "
   ]
  },
  {
   "cell_type": "code",
   "execution_count": null,
   "metadata": {
    "id": "KOahag-mjuof"
   },
   "outputs": [],
   "source": [
    "train_images = \n",
    "train_labels = \n",
    "\n",
    "test_images = \n",
    "test_labels = "
   ]
  },
  {
   "cell_type": "markdown",
   "metadata": {
    "id": "319M9tDNLUS7"
   },
   "source": [
    "##Reshape Train and Test Data by Adding the Number of Colour Channels at the End"
   ]
  },
  {
   "cell_type": "code",
   "execution_count": null,
   "metadata": {
    "id": "Sg56AOko4qby"
   },
   "outputs": [],
   "source": [
    "train_images = \n",
    "test_images = \n"
   ]
  },
  {
   "cell_type": "markdown",
   "metadata": {
    "id": "hM_SDKpFBpGs"
   },
   "source": [
    "## Basic Feed Forward Neural Network Model "
   ]
  },
  {
   "cell_type": "code",
   "execution_count": null,
   "metadata": {
    "id": "9pULotR1OPZX"
   },
   "outputs": [],
   "source": []
  },
  {
   "cell_type": "markdown",
   "metadata": {
    "id": "I-2LyGOYm99Z"
   },
   "source": [
    "##Change the acticvation function of the first two layers to tanh"
   ]
  },
  {
   "cell_type": "code",
   "execution_count": null,
   "metadata": {
    "id": "AXEVgQq8m8uZ"
   },
   "outputs": [],
   "source": []
  },
  {
   "cell_type": "markdown",
   "metadata": {
    "id": "twfV36ChP4Ce"
   },
   "source": [
    "## First CNN"
   ]
  },
  {
   "cell_type": "code",
   "execution_count": null,
   "metadata": {
    "id": "vcuC8NuAQPew"
   },
   "outputs": [],
   "source": []
  },
  {
   "cell_type": "markdown",
   "metadata": {
    "id": "tc11bVgbnXHY"
   },
   "source": [
    "##Second CNN"
   ]
  },
  {
   "cell_type": "code",
   "execution_count": null,
   "metadata": {
    "id": "M2cAP7RCfsvP"
   },
   "outputs": [],
   "source": []
  },
  {
   "cell_type": "markdown",
   "metadata": {
    "id": "3J6Q2DJ6hX7c"
   },
   "source": [
    "##Third CNN"
   ]
  },
  {
   "cell_type": "code",
   "execution_count": null,
   "metadata": {
    "id": "yDAtTVtahbIj"
   },
   "outputs": [],
   "source": []
  },
  {
   "cell_type": "markdown",
   "metadata": {
    "id": "9I4aw-Y6neWH"
   },
   "source": [
    "##Forth CNN"
   ]
  },
  {
   "cell_type": "code",
   "execution_count": null,
   "metadata": {
    "id": "yjTdABs_ibEO"
   },
   "outputs": [],
   "source": []
  }
 ],
 "metadata": {
  "accelerator": "GPU",
  "colab": {
   "collapsed_sections": [],
   "name": "Assignment3.ipynb",
   "provenance": []
  },
  "kernelspec": {
   "display_name": "Python 3",
   "language": "python",
   "name": "python3"
  },
  "language_info": {
   "codemirror_mode": {
    "name": "ipython",
    "version": 3
   },
   "file_extension": ".py",
   "mimetype": "text/x-python",
   "name": "python",
   "nbconvert_exporter": "python",
   "pygments_lexer": "ipython3",
   "version": "3.8.5"
  }
 },
 "nbformat": 4,
 "nbformat_minor": 1
}
